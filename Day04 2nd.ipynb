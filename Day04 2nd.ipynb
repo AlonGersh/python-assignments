{
 "cells": [
  {
   "cell_type": "code",
   "execution_count": 8,
   "id": "e672eac3-1ee5-4d00-a6f4-3e559792dd30",
   "metadata": {},
   "outputs": [],
   "source": [
    "numbers = [2, 3, 7, 0, -2]"
   ]
  },
  {
   "cell_type": "code",
   "execution_count": 9,
   "id": "dd9d28dc-174b-460c-85c0-7c096987790d",
   "metadata": {},
   "outputs": [
    {
     "name": "stdout",
     "output_type": "stream",
     "text": [
      "[2, 3, 7, 0, -2]\n"
     ]
    }
   ],
   "source": [
    "print(numbers)"
   ]
  },
  {
   "cell_type": "code",
   "execution_count": 10,
   "id": "f985da0a-9e3a-407e-a833-84cd27fa0dd7",
   "metadata": {},
   "outputs": [
    {
     "data": {
      "text/plain": [
       "[2, 3, 7, 0, -2, 2, 3, 7, 0, -2]"
      ]
     },
     "execution_count": 10,
     "metadata": {},
     "output_type": "execute_result"
    }
   ],
   "source": [
    "numbers * 2"
   ]
  },
  {
   "cell_type": "code",
   "execution_count": 13,
   "id": "7486b869-35fa-45fe-85a3-0ce6e61c0ff0",
   "metadata": {},
   "outputs": [
    {
     "name": "stdout",
     "output_type": "stream",
     "text": [
      "4\n",
      "6\n",
      "14\n",
      "0\n",
      "-4\n"
     ]
    }
   ],
   "source": [
    "for number in numbers:\n",
    "    print(number*2)"
   ]
  },
  {
   "cell_type": "code",
   "execution_count": 15,
   "id": "6516531c-97fd-41ec-bb2c-c43c0ce45eba",
   "metadata": {},
   "outputs": [
    {
     "data": {
      "text/plain": [
       "[4, 6, 14, 0, -4]"
      ]
     },
     "execution_count": 15,
     "metadata": {},
     "output_type": "execute_result"
    }
   ],
   "source": [
    "doubles = []\n",
    "for number in numbers: \n",
    "    doubles.append(number*2)\n",
    "doubles"
   ]
  },
  {
   "cell_type": "code",
   "execution_count": 26,
   "id": "f72e7b18-e144-4b03-b4b6-afe18330dd22",
   "metadata": {},
   "outputs": [],
   "source": [
    "def make_double(values):\n",
    "    dbls = []\n",
    "    for value in values:\n",
    "        dbls.append(value*2)\n",
    "    return dbls"
   ]
  },
  {
   "cell_type": "code",
   "execution_count": 30,
   "id": "1920a2fc-ef6c-4bca-8766-ed0476bfe65e",
   "metadata": {},
   "outputs": [
    {
     "data": {
      "text/plain": [
       "[6, 8, 18]"
      ]
     },
     "execution_count": 30,
     "metadata": {},
     "output_type": "execute_result"
    }
   ],
   "source": [
    "make_double([3, 4, 9])"
   ]
  },
  {
   "cell_type": "code",
   "execution_count": 37,
   "id": "675c53a2-1ecb-4be7-afde-ed6bcbd9bbae",
   "metadata": {},
   "outputs": [
    {
     "name": "stdout",
     "output_type": "stream",
     "text": [
      "4\n",
      "6\n",
      "14\n",
      "0\n",
      "-4\n"
     ]
    }
   ],
   "source": [
    "dbl = map(lambda num: num*2, numbers)\n",
    "dbl\n",
    "for val in dbl:\n",
    "    print(val)"
   ]
  },
  {
   "cell_type": "code",
   "execution_count": 43,
   "id": "a9c5c575-3d9d-4cf7-9e06-e2a0c9ed6603",
   "metadata": {},
   "outputs": [
    {
     "data": {
      "text/plain": [
       "[1, 2, 3, 4, 5, 6, 7, 8, 9]"
      ]
     },
     "execution_count": 43,
     "metadata": {},
     "output_type": "execute_result"
    }
   ],
   "source": [
    "numbers = list(range(1,10))\n",
    "numbers"
   ]
  },
  {
   "cell_type": "code",
   "execution_count": 45,
   "id": "2b1bc3f9-fdf6-40dd-ba43-e132006e67e5",
   "metadata": {},
   "outputs": [
    {
     "data": {
      "text/plain": [
       "[1, 2, 3, 4, 5, 6, 7, 8, 9]"
      ]
     },
     "execution_count": 45,
     "metadata": {},
     "output_type": "execute_result"
    }
   ],
   "source": [
    "numbers"
   ]
  },
  {
   "cell_type": "code",
   "execution_count": 52,
   "id": "74c4aefc-2e51-4027-93c4-ef0c97f65c10",
   "metadata": {},
   "outputs": [
    {
     "name": "stdout",
     "output_type": "stream",
     "text": [
      "1\n",
      "2\n",
      "3\n",
      "4\n",
      "5\n"
     ]
    }
   ],
   "source": [
    "for i in [0, 1, 2, 3, 4]:\n",
    "    print(numbers[i])"
   ]
  },
  {
   "cell_type": "code",
   "execution_count": 57,
   "id": "dea2c3b1-075f-43de-887a-fdaebfd00d51",
   "metadata": {},
   "outputs": [
    {
     "name": "stdout",
     "output_type": "stream",
     "text": [
      "100.0\n",
      "50.0\n",
      "33.333333333333336\n",
      "25.0\n",
      "20.0\n",
      "16.666666666666668\n",
      "14.285714285714286\n",
      "12.5\n",
      "11.11111111111111\n"
     ]
    }
   ],
   "source": [
    "for num in numbers:\n",
    "    if num != 0:\n",
    "        print(100/num)"
   ]
  },
  {
   "cell_type": "code",
   "execution_count": 64,
   "id": "d1a9d831-2263-496d-afa3-7a7ccf966d12",
   "metadata": {},
   "outputs": [
    {
     "name": "stdout",
     "output_type": "stream",
     "text": [
      "100.0\n",
      "50.0\n",
      "33.333333333333336\n",
      "25.0\n",
      "20.0\n",
      "16.666666666666668\n",
      "14.285714285714286\n",
      "12.5\n",
      "11.11111111111111\n"
     ]
    }
   ],
   "source": [
    "for num in numbers:\n",
    "    if num == 0:\n",
    "        continue\n",
    "    print(100/num)"
   ]
  },
  {
   "cell_type": "code",
   "execution_count": 65,
   "id": "5c07502c-850f-4fb0-996d-0eb81528c868",
   "metadata": {},
   "outputs": [
    {
     "name": "stdout",
     "output_type": "stream",
     "text": [
      "100.0\n",
      "50.0\n",
      "33.333333333333336\n",
      "25.0\n",
      "20.0\n",
      "16.666666666666668\n",
      "14.285714285714286\n",
      "12.5\n",
      "11.11111111111111\n"
     ]
    }
   ],
   "source": [
    "for num in numbers:\n",
    "    if num ==0:\n",
    "        break\n",
    "    print (100/num)"
   ]
  },
  {
   "cell_type": "code",
   "execution_count": 67,
   "id": "81c8f0c8-fb05-4135-a6dc-c5b77a982b93",
   "metadata": {},
   "outputs": [],
   "source": [
    "import random"
   ]
  },
  {
   "cell_type": "code",
   "execution_count": 69,
   "id": "caaf2499-7f07-46a5-be72-8e1c6294633c",
   "metadata": {},
   "outputs": [
    {
     "data": {
      "text/plain": [
       "0.7296952694325178"
      ]
     },
     "execution_count": 69,
     "metadata": {},
     "output_type": "execute_result"
    }
   ],
   "source": [
    "random.random()"
   ]
  }
 ],
 "metadata": {
  "kernelspec": {
   "display_name": "Python 3 (ipykernel)",
   "language": "python",
   "name": "python3"
  },
  "language_info": {
   "codemirror_mode": {
    "name": "ipython",
    "version": 3
   },
   "file_extension": ".py",
   "mimetype": "text/x-python",
   "name": "python",
   "nbconvert_exporter": "python",
   "pygments_lexer": "ipython3",
   "version": "3.13.0"
  }
 },
 "nbformat": 4,
 "nbformat_minor": 5
}
