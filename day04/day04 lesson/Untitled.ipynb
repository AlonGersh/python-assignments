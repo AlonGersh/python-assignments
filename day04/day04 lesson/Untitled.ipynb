{
 "cells": [
  {
   "cell_type": "code",
   "execution_count": 1,
   "id": "5bcb257b-a015-4c9f-aeea-d859694d698b",
   "metadata": {},
   "outputs": [],
   "source": [
    "def area(x,y):\n",
    "    result = x * y\n",
    "    return result"
   ]
  },
  {
   "cell_type": "code",
   "execution_count": 2,
   "id": "5bddb218-2725-432f-8814-5b26b4942dd1",
   "metadata": {},
   "outputs": [],
   "source": [
    "width = 2\n",
    "height = 19"
   ]
  },
  {
   "cell_type": "code",
   "execution_count": 3,
   "id": "afcfc7ac-8544-46b1-825c-15ae6859e139",
   "metadata": {},
   "outputs": [
    {
     "data": {
      "text/plain": [
       "38"
      ]
     },
     "execution_count": 3,
     "metadata": {},
     "output_type": "execute_result"
    }
   ],
   "source": [
    "area(width, height)"
   ]
  },
  {
   "cell_type": "code",
   "execution_count": null,
   "id": "7d71a5ed-532f-48b0-aa62-0894c362ba5f",
   "metadata": {},
   "outputs": [],
   "source": []
  },
  {
   "cell_type": "code",
   "execution_count": 4,
   "id": "70a42208-4402-4042-92aa-7555fc754120",
   "metadata": {},
   "outputs": [],
   "source": [
    "width = 3\n",
    "height = 7"
   ]
  },
  {
   "cell_type": "code",
   "execution_count": 6,
   "id": "9b5af15a-ed23-45ff-a6e8-5772fcbebc38",
   "metadata": {},
   "outputs": [
    {
     "data": {
      "text/plain": [
       "21"
      ]
     },
     "execution_count": 6,
     "metadata": {},
     "output_type": "execute_result"
    }
   ],
   "source": [
    "area(width, height)"
   ]
  },
  {
   "cell_type": "code",
   "execution_count": 8,
   "id": "55d8b283-afc0-481a-869f-9fdb65df9a55",
   "metadata": {},
   "outputs": [
    {
     "data": {
      "text/plain": [
       "50"
      ]
     },
     "execution_count": 8,
     "metadata": {},
     "output_type": "execute_result"
    }
   ],
   "source": [
    "area(5, 10)"
   ]
  },
  {
   "cell_type": "code",
   "execution_count": 11,
   "id": "cc416f8b-d065-4482-9232-6efd9ed2c99c",
   "metadata": {},
   "outputs": [],
   "source": [
    "def calc(x,y):\n",
    "    return x + y, x * y, x - y, x/y"
   ]
  },
  {
   "cell_type": "code",
   "execution_count": null,
   "id": "6eba562b-31e4-45f4-809e-e12c8eaf1f90",
   "metadata": {},
   "outputs": [],
   "source": [
    "(add, mul, sub, div) = calc(2, 3)"
   ]
  },
  {
   "cell_type": "code",
   "execution_count": 2,
   "id": "9028843d-07c5-488d-8116-1aaab8f6d2b3",
   "metadata": {},
   "outputs": [
    {
     "name": "stdout",
     "output_type": "stream",
     "text": [
      "Requirement already satisfied: numpy in c:\\users\\agers\\appdata\\local\\programs\\python\\python313\\lib\\site-packages (2.1.3)\n"
     ]
    },
    {
     "name": "stderr",
     "output_type": "stream",
     "text": [
      "WARNING: Ignoring invalid distribution ~upyterlab (C:\\Users\\agers\\AppData\\Local\\Programs\\Python\\Python313\\Lib\\site-packages)\n",
      "WARNING: Ignoring invalid distribution ~upyterlab (C:\\Users\\agers\\AppData\\Local\\Programs\\Python\\Python313\\Lib\\site-packages)\n",
      "WARNING: Ignoring invalid distribution ~upyterlab (C:\\Users\\agers\\AppData\\Local\\Programs\\Python\\Python313\\Lib\\site-packages)\n",
      "\n",
      "[notice] A new release of pip is available: 24.2 -> 24.3.1\n",
      "[notice] To update, run: python.exe -m pip install --upgrade pip\n"
     ]
    }
   ],
   "source": [
    "!pip install numpy"
   ]
  }
 ],
 "metadata": {
  "kernelspec": {
   "display_name": "Python 3 (ipykernel)",
   "language": "python",
   "name": "python3"
  },
  "language_info": {
   "codemirror_mode": {
    "name": "ipython",
    "version": 3
   },
   "file_extension": ".py",
   "mimetype": "text/x-python",
   "name": "python",
   "nbconvert_exporter": "python",
   "pygments_lexer": "ipython3",
   "version": "3.13.0"
  }
 },
 "nbformat": 4,
 "nbformat_minor": 5
}
