{
 "cells": [
  {
   "cell_type": "code",
   "execution_count": 5,
   "id": "4595e23d-2e31-44e6-9acb-7f1d9dcc4896",
   "metadata": {},
   "outputs": [
    {
     "name": "stdout",
     "output_type": "stream",
     "text": [
      "Rectangle area: 6\n",
      "Rectangle circumference: 10\n",
      "Circle area: 50.26548245743669\n",
      "Circle circumference: 25.132741228718345\n"
     ]
    }
   ],
   "source": [
    "import math\n",
    "\n",
    "width = 3  \n",
    "length = 2  \n",
    "radius = 4\n",
    "\n",
    "rectangle_area = width * length\n",
    "rectangle_circumference = (width * 2) + (length * 2)\n",
    "\n",
    "circle_area = math.pi * (radius**2)\n",
    "circel_circumference = 2 * (math.pi) * radius\n",
    "\n",
    "print(\"Rectangle area:\", rectangle_area)\n",
    "print(\"Rectangle circumference:\", rectangle_circumference)\n",
    "print(\"Circle area:\", circle_area)\n",
    "print(\"Circle circumference:\", circel_circumference)"
   ]
  },
  {
   "cell_type": "code",
   "execution_count": null,
   "id": "153a151d-bd01-42e1-92bc-31ce4c200d45",
   "metadata": {},
   "outputs": [],
   "source": []
  }
 ],
 "metadata": {
  "kernelspec": {
   "display_name": "Python 3 (ipykernel)",
   "language": "python",
   "name": "python3"
  },
  "language_info": {
   "codemirror_mode": {
    "name": "ipython",
    "version": 3
   },
   "file_extension": ".py",
   "mimetype": "text/x-python",
   "name": "python",
   "nbconvert_exporter": "python",
   "pygments_lexer": "ipython3",
   "version": "3.13.0"
  }
 },
 "nbformat": 4,
 "nbformat_minor": 5
}
