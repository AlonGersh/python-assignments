{
 "cells": [
  {
   "cell_type": "code",
   "execution_count": null,
   "metadata": {},
   "outputs": [
    {
     "name": "stdout",
     "output_type": "stream",
     "text": [
      "Rectangle area: 20\n",
      "Rectangle circumference: 18\n",
      "Circle area: 113.09733552923255\n",
      "Circle circumference: 37.69911184307752\n"
     ]
    }
   ],
   "source": [
    "import math\n",
    "\n",
    "width = int(input(\"Enter rectangle width: \"))    \n",
    "length = int(input(\"Enter rectangle length: \"))     \n",
    "\n",
    "radius = int(input(\"Enter rectangle radius: \"))   \n",
    "\n",
    "rectangle_area = width * length\n",
    "rectangle_circumference = (width * 2) + (length * 2)\n",
    "\n",
    "circle_area = (math.pi) * (radius**2)\n",
    "circel_circumference = 2 * (math.pi) * radius\n",
    "\n",
    "print(\"Rectangle area:\", rectangle_area)\n",
    "print(\"Rectangle circumference:\", rectangle_circumference)\n",
    "\n",
    "print(\"Circle area:\", circle_area)\n",
    "print(\"Circle circumference:\", circel_circumference)"
   ]
  }
 ],
 "metadata": {
  "kernelspec": {
   "display_name": "Python 3",
   "language": "python",
   "name": "python3"
  },
  "language_info": {
   "codemirror_mode": {
    "name": "ipython",
    "version": 3
   },
   "file_extension": ".py",
   "mimetype": "text/x-python",
   "name": "python",
   "nbconvert_exporter": "python",
   "pygments_lexer": "ipython3",
   "version": "3.13.0"
  }
 },
 "nbformat": 4,
 "nbformat_minor": 2
}
