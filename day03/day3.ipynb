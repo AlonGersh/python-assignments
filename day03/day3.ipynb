{
 "cells": [
  {
   "cell_type": "code",
   "execution_count": 1,
   "metadata": {},
   "outputs": [
    {
     "name": "stdout",
     "output_type": "stream",
     "text": [
      "Rectangle area: 2.0\n",
      "Rectangle circumference: 6.0\n",
      "Circle area: 28.274333882308138\n",
      "Circle circumference: 18.84955592153876\n"
     ]
    }
   ],
   "source": [
    "import math\n",
    "\n",
    "width = float(input(\"Enter rectangle width: \"))    \n",
    "length = float(input(\"Enter rectangle length: \"))     \n",
    "\n",
    "radius = float(input(\"Enter rectangle radius: \"))   \n",
    "\n",
    "rectangle_area = width * length\n",
    "rectangle_circumference = (width * 2) + (length * 2)\n",
    "\n",
    "circle_area = (math.pi) * (radius**2)\n",
    "circel_circumference = 2 * (math.pi) * radius\n",
    "\n",
    "print(\"Rectangle area:\", rectangle_area)\n",
    "print(\"Rectangle circumference:\", rectangle_circumference)\n",
    "\n",
    "print(\"Circle area:\", circle_area)\n",
    "print(\"Circle circumference:\", circel_circumference)"
   ]
  }
 ],
 "metadata": {
  "kernelspec": {
   "display_name": "Python 3",
   "language": "python",
   "name": "python3"
  },
  "language_info": {
   "codemirror_mode": {
    "name": "ipython",
    "version": 3
   },
   "file_extension": ".py",
   "mimetype": "text/x-python",
   "name": "python",
   "nbconvert_exporter": "python",
   "pygments_lexer": "ipython3",
   "version": "3.13.0"
  }
 },
 "nbformat": 4,
 "nbformat_minor": 2
}
