{
 "cells": [
  {
   "cell_type": "code",
   "execution_count": 5,
   "metadata": {},
   "outputs": [
    {
     "name": "stdout",
     "output_type": "stream",
     "text": [
      "Initial concentration: 1 mg/mL -> Final concentration: 0.33 mg/mL\n",
      "Initial concentration: 2 mg/mL -> Final concentration: 0.67 mg/mL\n",
      "Initial concentration: 3 mg/mL -> Final concentration: 1.00 mg/mL\n",
      "Initial concentration: 4 mg/mL -> Final concentration: 1.33 mg/mL\n",
      "Initial concentration: 5 mg/mL -> Final concentration: 1.67 mg/mL\n",
      "Initial concentration: 6 mg/mL -> Final concentration: 2.00 mg/mL\n",
      "Initial concentration: 7 mg/mL -> Final concentration: 2.33 mg/mL\n",
      "Initial concentration: 8 mg/mL -> Final concentration: 2.67 mg/mL\n",
      "Initial concentration: 9 mg/mL -> Final concentration: 3.00 mg/mL\n",
      "Initial concentration: 10 mg/mL -> Final concentration: 3.33 mg/mL\n"
     ]
    }
   ],
   "source": [
    "# Given values\n",
    "C1_values = [1,2,3,4,5,6,7,8,9,10] \n",
    "V1 = 100 \n",
    "V2 = 300 \n",
    "\n",
    "# Create an empty list to store the calculated C2 values\n",
    "C2_values = []\n",
    "\n",
    "# Part 1: Calculate C2 using a for loop\n",
    "for C1 in C1_values:\n",
    "    C2 = (C1*V1)/V2 \n",
    "    C2_values.append(C2)\n",
    "    print(f\"Initial concentration: {C1} mg/mL -> Final concentration: {C2:.2f} mg/mL\")"
   ]
  }
 ],
 "metadata": {
  "kernelspec": {
   "display_name": "Python 3",
   "language": "python",
   "name": "python3"
  },
  "language_info": {
   "codemirror_mode": {
    "name": "ipython",
    "version": 3
   },
   "file_extension": ".py",
   "mimetype": "text/x-python",
   "name": "python",
   "nbconvert_exporter": "python",
   "pygments_lexer": "ipython3",
   "version": "3.13.0"
  }
 },
 "nbformat": 4,
 "nbformat_minor": 2
}
