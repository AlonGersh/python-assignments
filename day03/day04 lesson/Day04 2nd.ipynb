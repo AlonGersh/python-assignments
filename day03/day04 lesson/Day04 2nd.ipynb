{
 "cells": [
  {
   "cell_type": "code",
   "execution_count": 8,
   "id": "e672eac3-1ee5-4d00-a6f4-3e559792dd30",
   "metadata": {},
   "outputs": [],
   "source": [
    "numbers = [2, 3, 7, 0, -2]"
   ]
  },
  {
   "cell_type": "code",
   "execution_count": 9,
   "id": "dd9d28dc-174b-460c-85c0-7c096987790d",
   "metadata": {},
   "outputs": [
    {
     "name": "stdout",
     "output_type": "stream",
     "text": [
      "[2, 3, 7, 0, -2]\n"
     ]
    }
   ],
   "source": [
    "print(numbers)"
   ]
  },
  {
   "cell_type": "code",
   "execution_count": 10,
   "id": "f985da0a-9e3a-407e-a833-84cd27fa0dd7",
   "metadata": {},
   "outputs": [
    {
     "data": {
      "text/plain": [
       "[2, 3, 7, 0, -2, 2, 3, 7, 0, -2]"
      ]
     },
     "execution_count": 10,
     "metadata": {},
     "output_type": "execute_result"
    }
   ],
   "source": [
    "numbers * 2"
   ]
  },
  {
   "cell_type": "code",
   "execution_count": 13,
   "id": "7486b869-35fa-45fe-85a3-0ce6e61c0ff0",
   "metadata": {},
   "outputs": [
    {
     "name": "stdout",
     "output_type": "stream",
     "text": [
      "4\n",
      "6\n",
      "14\n",
      "0\n",
      "-4\n"
     ]
    }
   ],
   "source": [
    "for number in numbers:\n",
    "    print(number*2)"
   ]
  },
  {
   "cell_type": "code",
   "execution_count": 15,
   "id": "6516531c-97fd-41ec-bb2c-c43c0ce45eba",
   "metadata": {},
   "outputs": [
    {
     "data": {
      "text/plain": [
       "[4, 6, 14, 0, -4]"
      ]
     },
     "execution_count": 15,
     "metadata": {},
     "output_type": "execute_result"
    }
   ],
   "source": [
    "doubles = []\n",
    "for number in numbers: \n",
    "    doubles.append(number*2)\n",
    "doubles"
   ]
  },
  {
   "cell_type": "code",
   "execution_count": 26,
   "id": "f72e7b18-e144-4b03-b4b6-afe18330dd22",
   "metadata": {},
   "outputs": [],
   "source": [
    "def make_double(values):\n",
    "    dbls = []\n",
    "    for value in values:\n",
    "        dbls.append(value*2)\n",
    "    return dbls"
   ]
  },
  {
   "cell_type": "code",
   "execution_count": 25,
   "id": "1920a2fc-ef6c-4bca-8766-ed0476bfe65e",
   "metadata": {},
   "outputs": [
    {
     "ename": "NameError",
     "evalue": "name 'make_double' is not defined",
     "output_type": "error",
     "traceback": [
      "\u001b[1;31m---------------------------------------------------------------------------\u001b[0m",
      "\u001b[1;31mNameError\u001b[0m                                 Traceback (most recent call last)",
      "Cell \u001b[1;32mIn[25], line 1\u001b[0m\n\u001b[1;32m----> 1\u001b[0m \u001b[43mmake_double\u001b[49m([\u001b[38;5;241m3\u001b[39m, \u001b[38;5;241m4\u001b[39m, \u001b[38;5;241m9\u001b[39m])\n",
      "\u001b[1;31mNameError\u001b[0m: name 'make_double' is not defined"
     ]
    }
   ],
   "source": [
    "make_double([3, 4, 9])"
   ]
  }
 ],
 "metadata": {
  "kernelspec": {
   "display_name": "Python 3 (ipykernel)",
   "language": "python",
   "name": "python3"
  },
  "language_info": {
   "codemirror_mode": {
    "name": "ipython",
    "version": 3
   },
   "file_extension": ".py",
   "mimetype": "text/x-python",
   "name": "python",
   "nbconvert_exporter": "python",
   "pygments_lexer": "ipython3",
   "version": "3.13.0"
  }
 },
 "nbformat": 4,
 "nbformat_minor": 5
}
